{
  "nbformat": 4,
  "nbformat_minor": 0,
  "metadata": {
    "colab": {
      "name": "Model Validation.ipynb",
      "provenance": [],
      "collapsed_sections": [],
      "authorship_tag": "ABX9TyNDwQV/ALAX6SUuSK0rWaX4",
      "include_colab_link": true
    },
    "kernelspec": {
      "name": "python3",
      "display_name": "Python 3"
    },
    "language_info": {
      "name": "python"
    }
  },
  "cells": [
    {
      "cell_type": "markdown",
      "metadata": {
        "id": "view-in-github",
        "colab_type": "text"
      },
      "source": [
        "<a href=\"https://colab.research.google.com/github/manasik29/Model-Validation-Techniques/blob/main/Model_Validation.ipynb\" target=\"_parent\"><img src=\"https://colab.research.google.com/assets/colab-badge.svg\" alt=\"Open In Colab\"/></a>"
      ]
    },
    {
      "cell_type": "markdown",
      "source": [
        "- Train and Test Sets\n",
        "- K-Fold Cross Validation\n",
        "- Leave one out Cross Validation"
      ],
      "metadata": {
        "id": "1jmZ6iYbcin4"
      }
    },
    {
      "cell_type": "code",
      "execution_count": 2,
      "metadata": {
        "id": "VTtPrzjM8U-u"
      },
      "outputs": [],
      "source": [
        "import pandas as pd\n",
        "names = ['preg', 'plas', 'pres', 'skin', 'test', 'mass', 'pedi', 'age', 'class']\n",
        "df = pd.read_csv('/content/pima-indians-diabetes.data.csv', names=names )"
      ]
    },
    {
      "cell_type": "code",
      "source": [
        "df"
      ],
      "metadata": {
        "colab": {
          "base_uri": "https://localhost:8080/",
          "height": 424
        },
        "id": "YH8ILr6jllnH",
        "outputId": "1178dcd5-aa20-4b16-8ebf-547fb10dbf96"
      },
      "execution_count": 3,
      "outputs": [
        {
          "output_type": "execute_result",
          "data": {
            "text/plain": [
              "     preg  plas  pres  skin  test  mass   pedi  age  class\n",
              "0       6   148    72    35     0  33.6  0.627   50      1\n",
              "1       1    85    66    29     0  26.6  0.351   31      0\n",
              "2       8   183    64     0     0  23.3  0.672   32      1\n",
              "3       1    89    66    23    94  28.1  0.167   21      0\n",
              "4       0   137    40    35   168  43.1  2.288   33      1\n",
              "..    ...   ...   ...   ...   ...   ...    ...  ...    ...\n",
              "763    10   101    76    48   180  32.9  0.171   63      0\n",
              "764     2   122    70    27     0  36.8  0.340   27      0\n",
              "765     5   121    72    23   112  26.2  0.245   30      0\n",
              "766     1   126    60     0     0  30.1  0.349   47      1\n",
              "767     1    93    70    31     0  30.4  0.315   23      0\n",
              "\n",
              "[768 rows x 9 columns]"
            ],
            "text/html": [
              "\n",
              "  <div id=\"df-1041486d-dbba-443f-a8ca-7e380bf39de3\">\n",
              "    <div class=\"colab-df-container\">\n",
              "      <div>\n",
              "<style scoped>\n",
              "    .dataframe tbody tr th:only-of-type {\n",
              "        vertical-align: middle;\n",
              "    }\n",
              "\n",
              "    .dataframe tbody tr th {\n",
              "        vertical-align: top;\n",
              "    }\n",
              "\n",
              "    .dataframe thead th {\n",
              "        text-align: right;\n",
              "    }\n",
              "</style>\n",
              "<table border=\"1\" class=\"dataframe\">\n",
              "  <thead>\n",
              "    <tr style=\"text-align: right;\">\n",
              "      <th></th>\n",
              "      <th>preg</th>\n",
              "      <th>plas</th>\n",
              "      <th>pres</th>\n",
              "      <th>skin</th>\n",
              "      <th>test</th>\n",
              "      <th>mass</th>\n",
              "      <th>pedi</th>\n",
              "      <th>age</th>\n",
              "      <th>class</th>\n",
              "    </tr>\n",
              "  </thead>\n",
              "  <tbody>\n",
              "    <tr>\n",
              "      <th>0</th>\n",
              "      <td>6</td>\n",
              "      <td>148</td>\n",
              "      <td>72</td>\n",
              "      <td>35</td>\n",
              "      <td>0</td>\n",
              "      <td>33.6</td>\n",
              "      <td>0.627</td>\n",
              "      <td>50</td>\n",
              "      <td>1</td>\n",
              "    </tr>\n",
              "    <tr>\n",
              "      <th>1</th>\n",
              "      <td>1</td>\n",
              "      <td>85</td>\n",
              "      <td>66</td>\n",
              "      <td>29</td>\n",
              "      <td>0</td>\n",
              "      <td>26.6</td>\n",
              "      <td>0.351</td>\n",
              "      <td>31</td>\n",
              "      <td>0</td>\n",
              "    </tr>\n",
              "    <tr>\n",
              "      <th>2</th>\n",
              "      <td>8</td>\n",
              "      <td>183</td>\n",
              "      <td>64</td>\n",
              "      <td>0</td>\n",
              "      <td>0</td>\n",
              "      <td>23.3</td>\n",
              "      <td>0.672</td>\n",
              "      <td>32</td>\n",
              "      <td>1</td>\n",
              "    </tr>\n",
              "    <tr>\n",
              "      <th>3</th>\n",
              "      <td>1</td>\n",
              "      <td>89</td>\n",
              "      <td>66</td>\n",
              "      <td>23</td>\n",
              "      <td>94</td>\n",
              "      <td>28.1</td>\n",
              "      <td>0.167</td>\n",
              "      <td>21</td>\n",
              "      <td>0</td>\n",
              "    </tr>\n",
              "    <tr>\n",
              "      <th>4</th>\n",
              "      <td>0</td>\n",
              "      <td>137</td>\n",
              "      <td>40</td>\n",
              "      <td>35</td>\n",
              "      <td>168</td>\n",
              "      <td>43.1</td>\n",
              "      <td>2.288</td>\n",
              "      <td>33</td>\n",
              "      <td>1</td>\n",
              "    </tr>\n",
              "    <tr>\n",
              "      <th>...</th>\n",
              "      <td>...</td>\n",
              "      <td>...</td>\n",
              "      <td>...</td>\n",
              "      <td>...</td>\n",
              "      <td>...</td>\n",
              "      <td>...</td>\n",
              "      <td>...</td>\n",
              "      <td>...</td>\n",
              "      <td>...</td>\n",
              "    </tr>\n",
              "    <tr>\n",
              "      <th>763</th>\n",
              "      <td>10</td>\n",
              "      <td>101</td>\n",
              "      <td>76</td>\n",
              "      <td>48</td>\n",
              "      <td>180</td>\n",
              "      <td>32.9</td>\n",
              "      <td>0.171</td>\n",
              "      <td>63</td>\n",
              "      <td>0</td>\n",
              "    </tr>\n",
              "    <tr>\n",
              "      <th>764</th>\n",
              "      <td>2</td>\n",
              "      <td>122</td>\n",
              "      <td>70</td>\n",
              "      <td>27</td>\n",
              "      <td>0</td>\n",
              "      <td>36.8</td>\n",
              "      <td>0.340</td>\n",
              "      <td>27</td>\n",
              "      <td>0</td>\n",
              "    </tr>\n",
              "    <tr>\n",
              "      <th>765</th>\n",
              "      <td>5</td>\n",
              "      <td>121</td>\n",
              "      <td>72</td>\n",
              "      <td>23</td>\n",
              "      <td>112</td>\n",
              "      <td>26.2</td>\n",
              "      <td>0.245</td>\n",
              "      <td>30</td>\n",
              "      <td>0</td>\n",
              "    </tr>\n",
              "    <tr>\n",
              "      <th>766</th>\n",
              "      <td>1</td>\n",
              "      <td>126</td>\n",
              "      <td>60</td>\n",
              "      <td>0</td>\n",
              "      <td>0</td>\n",
              "      <td>30.1</td>\n",
              "      <td>0.349</td>\n",
              "      <td>47</td>\n",
              "      <td>1</td>\n",
              "    </tr>\n",
              "    <tr>\n",
              "      <th>767</th>\n",
              "      <td>1</td>\n",
              "      <td>93</td>\n",
              "      <td>70</td>\n",
              "      <td>31</td>\n",
              "      <td>0</td>\n",
              "      <td>30.4</td>\n",
              "      <td>0.315</td>\n",
              "      <td>23</td>\n",
              "      <td>0</td>\n",
              "    </tr>\n",
              "  </tbody>\n",
              "</table>\n",
              "<p>768 rows × 9 columns</p>\n",
              "</div>\n",
              "      <button class=\"colab-df-convert\" onclick=\"convertToInteractive('df-1041486d-dbba-443f-a8ca-7e380bf39de3')\"\n",
              "              title=\"Convert this dataframe to an interactive table.\"\n",
              "              style=\"display:none;\">\n",
              "        \n",
              "  <svg xmlns=\"http://www.w3.org/2000/svg\" height=\"24px\"viewBox=\"0 0 24 24\"\n",
              "       width=\"24px\">\n",
              "    <path d=\"M0 0h24v24H0V0z\" fill=\"none\"/>\n",
              "    <path d=\"M18.56 5.44l.94 2.06.94-2.06 2.06-.94-2.06-.94-.94-2.06-.94 2.06-2.06.94zm-11 1L8.5 8.5l.94-2.06 2.06-.94-2.06-.94L8.5 2.5l-.94 2.06-2.06.94zm10 10l.94 2.06.94-2.06 2.06-.94-2.06-.94-.94-2.06-.94 2.06-2.06.94z\"/><path d=\"M17.41 7.96l-1.37-1.37c-.4-.4-.92-.59-1.43-.59-.52 0-1.04.2-1.43.59L10.3 9.45l-7.72 7.72c-.78.78-.78 2.05 0 2.83L4 21.41c.39.39.9.59 1.41.59.51 0 1.02-.2 1.41-.59l7.78-7.78 2.81-2.81c.8-.78.8-2.07 0-2.86zM5.41 20L4 18.59l7.72-7.72 1.47 1.35L5.41 20z\"/>\n",
              "  </svg>\n",
              "      </button>\n",
              "      \n",
              "  <style>\n",
              "    .colab-df-container {\n",
              "      display:flex;\n",
              "      flex-wrap:wrap;\n",
              "      gap: 12px;\n",
              "    }\n",
              "\n",
              "    .colab-df-convert {\n",
              "      background-color: #E8F0FE;\n",
              "      border: none;\n",
              "      border-radius: 50%;\n",
              "      cursor: pointer;\n",
              "      display: none;\n",
              "      fill: #1967D2;\n",
              "      height: 32px;\n",
              "      padding: 0 0 0 0;\n",
              "      width: 32px;\n",
              "    }\n",
              "\n",
              "    .colab-df-convert:hover {\n",
              "      background-color: #E2EBFA;\n",
              "      box-shadow: 0px 1px 2px rgba(60, 64, 67, 0.3), 0px 1px 3px 1px rgba(60, 64, 67, 0.15);\n",
              "      fill: #174EA6;\n",
              "    }\n",
              "\n",
              "    [theme=dark] .colab-df-convert {\n",
              "      background-color: #3B4455;\n",
              "      fill: #D2E3FC;\n",
              "    }\n",
              "\n",
              "    [theme=dark] .colab-df-convert:hover {\n",
              "      background-color: #434B5C;\n",
              "      box-shadow: 0px 1px 3px 1px rgba(0, 0, 0, 0.15);\n",
              "      filter: drop-shadow(0px 1px 2px rgba(0, 0, 0, 0.3));\n",
              "      fill: #FFFFFF;\n",
              "    }\n",
              "  </style>\n",
              "\n",
              "      <script>\n",
              "        const buttonEl =\n",
              "          document.querySelector('#df-1041486d-dbba-443f-a8ca-7e380bf39de3 button.colab-df-convert');\n",
              "        buttonEl.style.display =\n",
              "          google.colab.kernel.accessAllowed ? 'block' : 'none';\n",
              "\n",
              "        async function convertToInteractive(key) {\n",
              "          const element = document.querySelector('#df-1041486d-dbba-443f-a8ca-7e380bf39de3');\n",
              "          const dataTable =\n",
              "            await google.colab.kernel.invokeFunction('convertToInteractive',\n",
              "                                                     [key], {});\n",
              "          if (!dataTable) return;\n",
              "\n",
              "          const docLinkHtml = 'Like what you see? Visit the ' +\n",
              "            '<a target=\"_blank\" href=https://colab.research.google.com/notebooks/data_table.ipynb>data table notebook</a>'\n",
              "            + ' to learn more about interactive tables.';\n",
              "          element.innerHTML = '';\n",
              "          dataTable['output_type'] = 'display_data';\n",
              "          await google.colab.output.renderOutput(dataTable, element);\n",
              "          const docLink = document.createElement('div');\n",
              "          docLink.innerHTML = docLinkHtml;\n",
              "          element.appendChild(docLink);\n",
              "        }\n",
              "      </script>\n",
              "    </div>\n",
              "  </div>\n",
              "  "
            ]
          },
          "metadata": {},
          "execution_count": 3
        }
      ]
    },
    {
      "cell_type": "code",
      "source": [
        "array = df.values\n",
        "X = array[:,0:8]\n",
        "Y = array[:,8]"
      ],
      "metadata": {
        "id": "5_1no6dFlodh"
      },
      "execution_count": 4,
      "outputs": []
    },
    {
      "cell_type": "markdown",
      "source": [
        "**Train Test Split Sets**"
      ],
      "metadata": {
        "id": "QkzuaHddl18J"
      }
    },
    {
      "cell_type": "code",
      "source": [
        "from sklearn.model_selection import train_test_split\n",
        "from sklearn.linear_model import LogisticRegression\n",
        "test_size = 0.33\n",
        "seed =7\n",
        "\n",
        "X_train, X_test, Y_train, Y_test = train_test_split(X, Y, test_size = test_size, random_state = seed)\n",
        "\n",
        "model = LogisticRegression(max_iter=400)\n",
        "model.fit(X_train, Y_train)\n",
        "results = model.score(X_test, Y_test)"
      ],
      "metadata": {
        "id": "5pysJqyAl0Mb"
      },
      "execution_count": 6,
      "outputs": []
    },
    {
      "cell_type": "code",
      "source": [
        "results*100        #accuracy of model"
      ],
      "metadata": {
        "colab": {
          "base_uri": "https://localhost:8080/"
        },
        "id": "5fiE10CSnUIF",
        "outputId": "25665e92-8b09-46f2-8fd7-4bc8d7748123"
      },
      "execution_count": 7,
      "outputs": [
        {
          "output_type": "execute_result",
          "data": {
            "text/plain": [
              "78.74015748031496"
            ]
          },
          "metadata": {},
          "execution_count": 7
        }
      ]
    },
    {
      "cell_type": "markdown",
      "source": [
        "**K-Fold Cross Validation**"
      ],
      "metadata": {
        "id": "8GDO0fQUnroH"
      }
    },
    {
      "cell_type": "code",
      "source": [
        "from sklearn.model_selection import KFold\n",
        "from sklearn.model_selection import cross_val_score\n",
        "\n",
        "num_fold = 10\n",
        "\n",
        "model = LogisticRegression(max_iter=400)\n",
        "kfold = KFold(n_splits=num_fold)\n",
        "results_k = cross_val_score(model, X, Y, cv = kfold)"
      ],
      "metadata": {
        "id": "GTVNaCF_ncnY"
      },
      "execution_count": 9,
      "outputs": []
    },
    {
      "cell_type": "code",
      "source": [
        "results_k.mean()*100"
      ],
      "metadata": {
        "colab": {
          "base_uri": "https://localhost:8080/"
        },
        "id": "SRpitRQnowdJ",
        "outputId": "b6247b5e-ccfb-406c-f11b-9f8dbf4401a5"
      },
      "execution_count": 11,
      "outputs": [
        {
          "output_type": "execute_result",
          "data": {
            "text/plain": [
              "77.60423786739577"
            ]
          },
          "metadata": {},
          "execution_count": 11
        }
      ]
    },
    {
      "cell_type": "code",
      "source": [
        "results_k*100"
      ],
      "metadata": {
        "colab": {
          "base_uri": "https://localhost:8080/"
        },
        "id": "TIyuChS4o8Gh",
        "outputId": "c8d24bb4-3227-4d48-beba-d0d5ed31854b"
      },
      "execution_count": 14,
      "outputs": [
        {
          "output_type": "execute_result",
          "data": {
            "text/plain": [
              "array([68.83116883, 81.81818182, 76.62337662, 68.83116883, 77.92207792,\n",
              "       79.22077922, 84.41558442, 83.11688312, 75.        , 80.26315789])"
            ]
          },
          "metadata": {},
          "execution_count": 14
        }
      ]
    },
    {
      "cell_type": "code",
      "source": [
        "results_k.std()*100"
      ],
      "metadata": {
        "colab": {
          "base_uri": "https://localhost:8080/"
        },
        "id": "SNgqex93pBUx",
        "outputId": "d447ab8c-8248-4c67-ad91-7dac33003fe9"
      },
      "execution_count": 15,
      "outputs": [
        {
          "output_type": "execute_result",
          "data": {
            "text/plain": [
              "5.157545262086822"
            ]
          },
          "metadata": {},
          "execution_count": 15
        }
      ]
    },
    {
      "cell_type": "markdown",
      "source": [
        "**Leave one out Cross Validation**"
      ],
      "metadata": {
        "id": "-RGnLxJkpM7S"
      }
    },
    {
      "cell_type": "code",
      "source": [
        "from sklearn.model_selection import LeaveOneOut\n",
        "\n",
        "model = LogisticRegression(max_iter=400)\n",
        "loocv = LeaveOneOut()\n",
        "results_l = cross_val_score(model, X, Y, cv = loocv)"
      ],
      "metadata": {
        "id": "rmR8T7TkpEJA"
      },
      "execution_count": 16,
      "outputs": []
    },
    {
      "cell_type": "code",
      "source": [
        "results_l.mean()*100"
      ],
      "metadata": {
        "colab": {
          "base_uri": "https://localhost:8080/"
        },
        "id": "gGbIwn2Spluf",
        "outputId": "46768132-40f3-4641-d7c4-dfb7ba313e11"
      },
      "execution_count": 18,
      "outputs": [
        {
          "output_type": "execute_result",
          "data": {
            "text/plain": [
              "77.60416666666666"
            ]
          },
          "metadata": {},
          "execution_count": 18
        }
      ]
    },
    {
      "cell_type": "code",
      "source": [
        "results_l.std()*100"
      ],
      "metadata": {
        "colab": {
          "base_uri": "https://localhost:8080/"
        },
        "id": "JwF35tC9pxAl",
        "outputId": "907c8ea9-8f32-415e-dfc4-4e3531812544"
      },
      "execution_count": 19,
      "outputs": [
        {
          "output_type": "execute_result",
          "data": {
            "text/plain": [
              "41.68944689773287"
            ]
          },
          "metadata": {},
          "execution_count": 19
        }
      ]
    },
    {
      "cell_type": "code",
      "source": [
        "results_l*100"
      ],
      "metadata": {
        "colab": {
          "base_uri": "https://localhost:8080/"
        },
        "id": "fR-aZOLlp1oV",
        "outputId": "87783271-2a35-438d-ef8f-d959436a9224"
      },
      "execution_count": 20,
      "outputs": [
        {
          "output_type": "execute_result",
          "data": {
            "text/plain": [
              "array([100., 100., 100., 100., 100., 100.,   0.,   0., 100.,   0., 100.,\n",
              "       100.,   0., 100., 100.,   0.,   0.,   0., 100.,   0., 100., 100.,\n",
              "       100.,   0., 100.,   0., 100., 100.,   0., 100., 100., 100., 100.,\n",
              "       100., 100., 100.,   0.,   0.,   0., 100.,   0.,   0., 100., 100.,\n",
              "         0., 100., 100., 100.,   0., 100., 100., 100., 100., 100.,   0.,\n",
              "       100., 100., 100.,   0., 100., 100., 100., 100., 100.,   0., 100.,\n",
              "         0., 100., 100., 100.,   0., 100., 100., 100., 100., 100., 100.,\n",
              "       100., 100., 100., 100., 100., 100., 100., 100., 100.,   0., 100.,\n",
              "       100., 100., 100., 100., 100.,   0., 100.,   0., 100., 100., 100.,\n",
              "         0., 100., 100., 100., 100., 100., 100., 100., 100., 100.,   0.,\n",
              "       100., 100., 100., 100., 100., 100.,   0., 100., 100., 100., 100.,\n",
              "       100., 100., 100.,   0., 100., 100., 100.,   0.,   0., 100., 100.,\n",
              "       100., 100., 100., 100., 100., 100., 100., 100., 100., 100., 100.,\n",
              "         0., 100., 100., 100., 100.,   0., 100., 100., 100., 100.,   0.,\n",
              "       100., 100., 100., 100., 100., 100., 100., 100., 100., 100.,   0.,\n",
              "         0., 100., 100., 100., 100.,   0., 100., 100., 100., 100., 100.,\n",
              "       100., 100.,   0., 100., 100., 100., 100., 100., 100., 100., 100.,\n",
              "         0.,   0.,   0., 100., 100., 100., 100., 100., 100., 100.,   0.,\n",
              "         0.,   0., 100., 100., 100., 100., 100., 100., 100., 100., 100.,\n",
              "       100., 100.,   0.,   0., 100.,   0., 100.,   0., 100.,   0.,   0.,\n",
              "       100., 100., 100.,   0., 100., 100., 100., 100.,   0., 100., 100.,\n",
              "       100., 100., 100., 100., 100., 100., 100., 100., 100., 100., 100.,\n",
              "         0.,   0., 100., 100., 100.,   0., 100., 100., 100., 100., 100.,\n",
              "       100.,   0.,   0., 100., 100.,   0., 100.,   0., 100., 100.,   0.,\n",
              "         0., 100., 100.,   0., 100., 100., 100., 100., 100., 100.,   0.,\n",
              "       100.,   0., 100., 100., 100.,   0.,   0., 100., 100.,   0., 100.,\n",
              "         0.,   0., 100., 100., 100.,   0., 100.,   0., 100.,   0.,   0.,\n",
              "       100.,   0., 100., 100.,   0., 100., 100., 100., 100., 100., 100.,\n",
              "         0.,   0., 100., 100.,   0., 100., 100., 100., 100., 100., 100.,\n",
              "       100., 100.,   0.,   0., 100., 100., 100.,   0.,   0.,   0., 100.,\n",
              "       100., 100., 100., 100., 100.,   0.,   0.,   0., 100., 100., 100.,\n",
              "       100., 100., 100., 100.,   0., 100., 100., 100.,   0., 100., 100.,\n",
              "       100., 100., 100., 100.,   0., 100., 100., 100., 100.,   0., 100.,\n",
              "       100., 100., 100.,   0., 100., 100.,   0., 100., 100., 100., 100.,\n",
              "       100., 100., 100., 100., 100., 100., 100., 100., 100., 100., 100.,\n",
              "       100.,   0.,   0.,   0., 100., 100., 100., 100., 100., 100., 100.,\n",
              "       100.,   0., 100., 100.,   0., 100.,   0., 100., 100.,   0.,   0.,\n",
              "       100., 100., 100., 100., 100.,   0., 100.,   0., 100., 100., 100.,\n",
              "       100.,   0., 100., 100., 100., 100., 100., 100., 100., 100., 100.,\n",
              "         0., 100., 100., 100., 100., 100., 100.,   0., 100., 100., 100.,\n",
              "       100., 100., 100.,   0.,   0., 100., 100., 100.,   0., 100., 100.,\n",
              "         0., 100., 100., 100., 100., 100., 100., 100.,   0., 100., 100.,\n",
              "       100., 100., 100., 100., 100., 100., 100.,   0.,   0., 100., 100.,\n",
              "       100., 100., 100.,   0., 100., 100., 100., 100., 100., 100., 100.,\n",
              "       100.,   0., 100.,   0., 100.,   0., 100., 100., 100.,   0., 100.,\n",
              "         0., 100., 100., 100.,   0., 100., 100.,   0., 100., 100., 100.,\n",
              "       100., 100., 100., 100.,   0., 100., 100., 100., 100., 100., 100.,\n",
              "         0., 100., 100., 100., 100., 100., 100., 100., 100., 100., 100.,\n",
              "       100., 100., 100., 100., 100., 100., 100., 100., 100., 100., 100.,\n",
              "         0.,   0.,   0.,   0., 100., 100., 100., 100., 100.,   0.,   0.,\n",
              "       100., 100., 100., 100., 100., 100., 100., 100.,   0., 100.,   0.,\n",
              "       100., 100., 100., 100., 100., 100., 100.,   0.,   0., 100., 100.,\n",
              "       100., 100., 100., 100., 100.,   0., 100., 100., 100., 100., 100.,\n",
              "       100.,   0., 100., 100., 100., 100., 100., 100., 100.,   0., 100.,\n",
              "       100., 100., 100., 100., 100., 100., 100., 100., 100., 100., 100.,\n",
              "       100., 100., 100., 100., 100., 100., 100., 100., 100., 100., 100.,\n",
              "       100., 100.,   0.,   0., 100., 100.,   0., 100., 100., 100., 100.,\n",
              "       100., 100., 100.,   0., 100., 100., 100., 100.,   0., 100., 100.,\n",
              "         0., 100., 100., 100.,   0., 100., 100.,   0.,   0., 100.,   0.,\n",
              "       100., 100., 100., 100., 100., 100.,   0., 100., 100.,   0.,   0.,\n",
              "         0., 100., 100., 100.,   0., 100., 100.,   0., 100.,   0.,   0.,\n",
              "       100., 100.,   0., 100., 100., 100., 100.,   0., 100., 100., 100.,\n",
              "       100.,   0., 100., 100., 100., 100., 100., 100., 100., 100., 100.,\n",
              "       100., 100.,   0., 100., 100., 100.,   0., 100.,   0., 100.,   0.,\n",
              "       100., 100.,   0., 100., 100.,   0., 100., 100., 100., 100., 100.,\n",
              "       100., 100., 100., 100.,   0., 100., 100.,   0., 100., 100., 100.,\n",
              "       100., 100., 100., 100.,   0.,   0., 100., 100., 100., 100., 100.,\n",
              "       100., 100.,   0., 100., 100., 100., 100.,   0., 100., 100., 100.,\n",
              "       100., 100., 100., 100., 100., 100., 100.,   0., 100.,   0., 100.,\n",
              "       100., 100., 100., 100., 100., 100., 100.,   0., 100.])"
            ]
          },
          "metadata": {},
          "execution_count": 20
        }
      ]
    },
    {
      "cell_type": "code",
      "source": [
        ""
      ],
      "metadata": {
        "id": "Eby-IEhqp5tl"
      },
      "execution_count": null,
      "outputs": []
    }
  ]
}